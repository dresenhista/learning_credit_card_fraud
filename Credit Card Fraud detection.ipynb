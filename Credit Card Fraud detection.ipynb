{
 "cells": [
  {
   "cell_type": "raw",
   "metadata": {},
   "source": [
    "<code><script>\n",
    "var myUrl = 'http://andresa.me/fraud_analysis_oversampling/';\n",
    " \n",
    "if(window.top.location.href !== myUrl) {\n",
    "    window.top.location.href = myUrl;\n",
    "}\n",
    "</script></code>"
   ]
  },
  {
   "cell_type": "markdown",
   "metadata": {},
   "source": [
    "###  **This is a pretty long tutorial and I know how hard it is to go through, hopefully you may skip a few blocks of code if you need**\n",
    "\n",
    "One of the oldest problem in Statistics is to deal with unbalanced data, for example, surviving data, credit risk, fraud. \n",
    "\n",
    "Basically in any data where either your success rate is too high or too low, models are almost irrelavant. This comes from the fact that we use a criteria around 1% to measure the accuracy of a model, ie, if my model predicts in the testing set 99% of the success (or failure depending on what you are trying to do), the model is a hero.\n",
    "\n",
    "![title](images.png)\n",
    "\n",
    "What happens with unbalanced data is that the success metric happening in around 1% (usually less than 10%), so if you have no model and predicts success at 1%, then the model passes the accuracy criteria.\n",
    "\n",
    "In this post you will learn a 'trick' to deal with this type of data: *oversampling* and *undersampling*.\n",
    "In this project I will skip the descriptive analysis hoping that we all want to focus on fraud analysis a bit more.\n",
    "\n",
    "\n",
    "# Importing Libraries\n",
    "\n",
    "In an early stage we will use a few of the most popular libraries such as pandas, numpy, matplotlib, sklearn, but also some for this particular type of problem such as imblearn, mlxtend and my favorite for logistic regression statsmodels.\n"
   ]
  },
  {
   "cell_type": "code",
   "execution_count": 85,
   "metadata": {},
   "outputs": [],
   "source": [
    "#import libraries\n",
    "\n",
    "#to plot stuff\n",
    "import pandas as pd\n",
    "import matplotlib.pyplot as plt\n",
    "%matplotlib inline\n",
    "\n",
    "import scikitplot as skplt\n",
    "import numpy as np\n",
    "\n",
    "\n",
    "#decision tree\n",
    "from sklearn.datasets import make_blobs\n",
    "from sklearn.tree import DecisionTreeClassifier\n",
    "from sklearn.ensemble import RandomForestClassifier\n",
    "from sklearn.datasets import make_classification\n",
    "from sklearn.metrics import classification_report\n",
    "\n",
    "#split training and testing\n",
    "from sklearn.model_selection import train_test_split\n",
    "\n",
    "from collections import Counter\n",
    "from imblearn.over_sampling import RandomOverSampler\n",
    "from imblearn.under_sampling import RandomUnderSampler\n",
    "\n",
    "#model evaluation\n",
    "from sklearn.metrics import confusion_matrix\n",
    "\n",
    "#decision tree plotter\n",
    "from mlxtend.plotting import category_scatter\n",
    "from mlxtend.plotting import plot_decision_regions\n",
    "\n",
    "import statsmodels.api as sm\n"
   ]
  },
  {
   "cell_type": "markdown",
   "metadata": {},
   "source": [
    "# Data Problem and Motivation\n",
    "\n",
    "I have been working on a similar problem at work and I could not find a good source of information with I wanted. I knew I had to perform unbalanced data treatment and I wanted to use Logistic Regression and so I had to pick parts of code around and sew them together myself (thus this blog post).\n",
    "\n",
    "The data used here was available in a kaggle competition 2 years ago in this link: https://www.kaggle.com/mlg-ulb/creditcardfraud. I have no extra knowledge of the data or data source whatsoever besides what is already in there. They do mention in the data description that a PCA analysis was performed and unfortunately, due to the nature of the business and privacy, they cannot release any additional information on the dataset.\n",
    "\n",
    "This is what the data looks like:\n"
   ]
  },
  {
   "cell_type": "code",
   "execution_count": 42,
   "metadata": {},
   "outputs": [
    {
     "data": {
      "text/html": [
       "<div>\n",
       "<style scoped>\n",
       "    .dataframe tbody tr th:only-of-type {\n",
       "        vertical-align: middle;\n",
       "    }\n",
       "\n",
       "    .dataframe tbody tr th {\n",
       "        vertical-align: top;\n",
       "    }\n",
       "\n",
       "    .dataframe thead th {\n",
       "        text-align: right;\n",
       "    }\n",
       "</style>\n",
       "<table border=\"1\" class=\"dataframe\">\n",
       "  <thead>\n",
       "    <tr style=\"text-align: right;\">\n",
       "      <th></th>\n",
       "      <th>Time</th>\n",
       "      <th>V1</th>\n",
       "      <th>V2</th>\n",
       "      <th>V3</th>\n",
       "      <th>V4</th>\n",
       "      <th>V5</th>\n",
       "      <th>V6</th>\n",
       "      <th>V7</th>\n",
       "      <th>V8</th>\n",
       "      <th>V9</th>\n",
       "      <th>...</th>\n",
       "      <th>V21</th>\n",
       "      <th>V22</th>\n",
       "      <th>V23</th>\n",
       "      <th>V24</th>\n",
       "      <th>V25</th>\n",
       "      <th>V26</th>\n",
       "      <th>V27</th>\n",
       "      <th>V28</th>\n",
       "      <th>Amount</th>\n",
       "      <th>Class</th>\n",
       "    </tr>\n",
       "  </thead>\n",
       "  <tbody>\n",
       "    <tr>\n",
       "      <th>0</th>\n",
       "      <td>0.0</td>\n",
       "      <td>-1.359807</td>\n",
       "      <td>-0.072781</td>\n",
       "      <td>2.536347</td>\n",
       "      <td>1.378155</td>\n",
       "      <td>-0.338321</td>\n",
       "      <td>0.462388</td>\n",
       "      <td>0.239599</td>\n",
       "      <td>0.098698</td>\n",
       "      <td>0.363787</td>\n",
       "      <td>...</td>\n",
       "      <td>-0.018307</td>\n",
       "      <td>0.277838</td>\n",
       "      <td>-0.110474</td>\n",
       "      <td>0.066928</td>\n",
       "      <td>0.128539</td>\n",
       "      <td>-0.189115</td>\n",
       "      <td>0.133558</td>\n",
       "      <td>-0.021053</td>\n",
       "      <td>149.62</td>\n",
       "      <td>0</td>\n",
       "    </tr>\n",
       "    <tr>\n",
       "      <th>1</th>\n",
       "      <td>0.0</td>\n",
       "      <td>1.191857</td>\n",
       "      <td>0.266151</td>\n",
       "      <td>0.166480</td>\n",
       "      <td>0.448154</td>\n",
       "      <td>0.060018</td>\n",
       "      <td>-0.082361</td>\n",
       "      <td>-0.078803</td>\n",
       "      <td>0.085102</td>\n",
       "      <td>-0.255425</td>\n",
       "      <td>...</td>\n",
       "      <td>-0.225775</td>\n",
       "      <td>-0.638672</td>\n",
       "      <td>0.101288</td>\n",
       "      <td>-0.339846</td>\n",
       "      <td>0.167170</td>\n",
       "      <td>0.125895</td>\n",
       "      <td>-0.008983</td>\n",
       "      <td>0.014724</td>\n",
       "      <td>2.69</td>\n",
       "      <td>0</td>\n",
       "    </tr>\n",
       "    <tr>\n",
       "      <th>2</th>\n",
       "      <td>1.0</td>\n",
       "      <td>-1.358354</td>\n",
       "      <td>-1.340163</td>\n",
       "      <td>1.773209</td>\n",
       "      <td>0.379780</td>\n",
       "      <td>-0.503198</td>\n",
       "      <td>1.800499</td>\n",
       "      <td>0.791461</td>\n",
       "      <td>0.247676</td>\n",
       "      <td>-1.514654</td>\n",
       "      <td>...</td>\n",
       "      <td>0.247998</td>\n",
       "      <td>0.771679</td>\n",
       "      <td>0.909412</td>\n",
       "      <td>-0.689281</td>\n",
       "      <td>-0.327642</td>\n",
       "      <td>-0.139097</td>\n",
       "      <td>-0.055353</td>\n",
       "      <td>-0.059752</td>\n",
       "      <td>378.66</td>\n",
       "      <td>0</td>\n",
       "    </tr>\n",
       "    <tr>\n",
       "      <th>3</th>\n",
       "      <td>1.0</td>\n",
       "      <td>-0.966272</td>\n",
       "      <td>-0.185226</td>\n",
       "      <td>1.792993</td>\n",
       "      <td>-0.863291</td>\n",
       "      <td>-0.010309</td>\n",
       "      <td>1.247203</td>\n",
       "      <td>0.237609</td>\n",
       "      <td>0.377436</td>\n",
       "      <td>-1.387024</td>\n",
       "      <td>...</td>\n",
       "      <td>-0.108300</td>\n",
       "      <td>0.005274</td>\n",
       "      <td>-0.190321</td>\n",
       "      <td>-1.175575</td>\n",
       "      <td>0.647376</td>\n",
       "      <td>-0.221929</td>\n",
       "      <td>0.062723</td>\n",
       "      <td>0.061458</td>\n",
       "      <td>123.50</td>\n",
       "      <td>0</td>\n",
       "    </tr>\n",
       "    <tr>\n",
       "      <th>4</th>\n",
       "      <td>2.0</td>\n",
       "      <td>-1.158233</td>\n",
       "      <td>0.877737</td>\n",
       "      <td>1.548718</td>\n",
       "      <td>0.403034</td>\n",
       "      <td>-0.407193</td>\n",
       "      <td>0.095921</td>\n",
       "      <td>0.592941</td>\n",
       "      <td>-0.270533</td>\n",
       "      <td>0.817739</td>\n",
       "      <td>...</td>\n",
       "      <td>-0.009431</td>\n",
       "      <td>0.798278</td>\n",
       "      <td>-0.137458</td>\n",
       "      <td>0.141267</td>\n",
       "      <td>-0.206010</td>\n",
       "      <td>0.502292</td>\n",
       "      <td>0.219422</td>\n",
       "      <td>0.215153</td>\n",
       "      <td>69.99</td>\n",
       "      <td>0</td>\n",
       "    </tr>\n",
       "  </tbody>\n",
       "</table>\n",
       "<p>5 rows × 31 columns</p>\n",
       "</div>"
      ],
      "text/plain": [
       "   Time        V1        V2        V3        V4        V5        V6        V7  \\\n",
       "0   0.0 -1.359807 -0.072781  2.536347  1.378155 -0.338321  0.462388  0.239599   \n",
       "1   0.0  1.191857  0.266151  0.166480  0.448154  0.060018 -0.082361 -0.078803   \n",
       "2   1.0 -1.358354 -1.340163  1.773209  0.379780 -0.503198  1.800499  0.791461   \n",
       "3   1.0 -0.966272 -0.185226  1.792993 -0.863291 -0.010309  1.247203  0.237609   \n",
       "4   2.0 -1.158233  0.877737  1.548718  0.403034 -0.407193  0.095921  0.592941   \n",
       "\n",
       "         V8        V9  ...         V21       V22       V23       V24  \\\n",
       "0  0.098698  0.363787  ...   -0.018307  0.277838 -0.110474  0.066928   \n",
       "1  0.085102 -0.255425  ...   -0.225775 -0.638672  0.101288 -0.339846   \n",
       "2  0.247676 -1.514654  ...    0.247998  0.771679  0.909412 -0.689281   \n",
       "3  0.377436 -1.387024  ...   -0.108300  0.005274 -0.190321 -1.175575   \n",
       "4 -0.270533  0.817739  ...   -0.009431  0.798278 -0.137458  0.141267   \n",
       "\n",
       "        V25       V26       V27       V28  Amount  Class  \n",
       "0  0.128539 -0.189115  0.133558 -0.021053  149.62      0  \n",
       "1  0.167170  0.125895 -0.008983  0.014724    2.69      0  \n",
       "2 -0.327642 -0.139097 -0.055353 -0.059752  378.66      0  \n",
       "3  0.647376 -0.221929  0.062723  0.061458  123.50      0  \n",
       "4 -0.206010  0.502292  0.219422  0.215153   69.99      0  \n",
       "\n",
       "[5 rows x 31 columns]"
      ]
     },
     "execution_count": 42,
     "metadata": {},
     "output_type": "execute_result"
    }
   ],
   "source": [
    "#loads data\n",
    "df = pd.read_csv('creditcard.csv')\n",
    "df.head()"
   ]
  },
  {
   "cell_type": "markdown",
   "metadata": {},
   "source": [
    "# Factoring the X matrix for Regression\n",
    "If we take a closer look at the amount of success and failure in the original data, we have:"
   ]
  },
  {
   "cell_type": "code",
   "execution_count": 84,
   "metadata": {},
   "outputs": [
    {
     "name": "stdout",
     "output_type": "stream",
     "text": [
      "Percentage of Fraud: 0.173%\n"
     ]
    }
   ],
   "source": [
    "#define our original variables\n",
    "y = df['Class']\n",
    "features =list(df.columns[1:len(df.columns)-1])\n",
    "X = pd.get_dummies(df[features], drop_first=True)\n",
    "\n",
    "p = sum(y)/len(y)\n",
    "print(\"Percentage of Fraud: \"+\"{:.3%}\".format(p));"
   ]
  },
  {
   "cell_type": "markdown",
   "metadata": {},
   "source": [
    "Now we know how low is the probability of a fradulent transactions to happen in our dataset (which here it will be treated as our success event). \n",
    "\n",
    "# Separating Test and Training\n",
    "Let's separate the data in training and testing"
   ]
  },
  {
   "cell_type": "code",
   "execution_count": 56,
   "metadata": {},
   "outputs": [
    {
     "name": "stdout",
     "output_type": "stream",
     "text": [
      "Percentage of Fraud in the test set: 0.172%\n",
      "Percentage of Fraud in the train set: 0.173%\n"
     ]
    }
   ],
   "source": [
    "#define training and testing sets\n",
    "X_train, X_test, y_train, y_test = train_test_split(X, y, test_size=0.2, random_state=42)\n",
    "\n",
    "\n",
    "p_test = sum(y_test)/len(y_test)\n",
    "p_train = sum(y_train)/len(y_train)\n",
    "\n",
    "print(\"Percentage of Fraud in the test set: \"+\"{:.3%}\".format(p_test))\n",
    "print(\"Percentage of Fraud in the train set: \"+\"{:.3%}\".format(p_train))\n"
   ]
  },
  {
   "cell_type": "markdown",
   "metadata": {},
   "source": [
    "This way the percentage of success was kept within the split. \n",
    "\n",
    "Now because of our unbalanced data we need the dataset to have balanced success rate in order to validate the model. There are two ways of doing it: \n",
    "* Oversampling: which is basically floading the dataset with success events in a way that the percentage of success is closer to 50% (balanced) then the original set.\n",
    "* Undersampling: which is reducing the unbalanced event, forcing the dataset to be balanced.\n",
    "\n",
    "## Method: Over Sampling\n",
    "\n",
    "First let's perform the Oversampling analysis:"
   ]
  },
  {
   "cell_type": "code",
   "execution_count": 87,
   "metadata": {},
   "outputs": [
    {
     "name": "stdout",
     "output_type": "stream",
     "text": [
      "Percentage of Fraud in the test set: 50.000%\n",
      "Percentage of Fraud in the train set: 50.000%\n"
     ]
    }
   ],
   "source": [
    "#oversampling\n",
    "ros = RandomOverSampler(random_state=42)\n",
    "X_over, y_over = ros.fit_resample(X_train, y_train)\n",
    "\n",
    "ros = RandomUnderSampler(random_state=42)\n",
    "X_under, y_under = ros.fit_resample(X_train, y_train)\n",
    "\n",
    "#write oversample dataframe as a pandas dataframe and add the column names\n",
    "#column names were removed from the dataframe when we performed the oversampling\n",
    "#column names will be useful down the road when we do a feature selection\n",
    "\n",
    "X = pd.DataFrame(X)\n",
    "names = list(X.columns)\n",
    "X_over = pd.DataFrame(X_over)\n",
    "X_over.columns = names\n",
    "\n",
    "X_under = pd.DataFrame(X_under)\n",
    "X_under.columns = names\n",
    "\n",
    "p_over = sum(y_over)/len(y_over)\n",
    "p_under = sum(y_under)/len(y_under)\n",
    "\n",
    "print(\"Percentage of Fraud in the test set: \"+\"{:.3%}\".format(p_over))\n",
    "print(\"Percentage of Fraud in the train set: \"+\"{:.3%}\".format(p_under))"
   ]
  },
  {
   "cell_type": "markdown",
   "metadata": {},
   "source": [
    "Now the data has the same amount of success and failures.\n",
    "\n",
    "# Modeling with Logistic Regression\n",
    "\n",
    "In the snipped of code below we have three function:\n",
    "\n",
    "1. **remove_pvalues():** a function to perform feature selection. It removes features with a p-value higher than 5%, which is basically the probability of the weight for that feature being equal 0. In a regression fitting, the coefficients pvalue test if each individual feature is irrelevant for the model (null hypothesis) or otherwise (alternative hypothesis). If you want to know more the Wikipedia article on p-value is pretty reasanable (https://en.wikipedia.org/wiki/P-value)\n",
    "\n",
    "<br>\n",
    "\n",
    "2. **stepwise_logistic():** now we will repeat the process of removing the \"irrelavant features\" until there is no more fetaures to be removed. This function will loop through the model interactions until stops removing features.\n",
    "\n",
    "<br>\n",
    "\n",
    "3. **logit_score():** The output of a logistic regression model is actually a vector of probabilities from 0 to 1, the closer to 0 the more unlikely is of that record to be a fraud given the current variables in the model. And on another hand the closer to 1, the more likely is to be a fraud. For the purposes of this problem, if the probability is higher than 0.95 (which it was picked by me randomly and guttely speaking) I am calling that a 1. And then at the end, this function scores the predicted success rate against the real value of the testing set.\n",
    "\n",
    "Note: The IMO the threshold to call a fraud or success depends on how many false negative/positive you are willing to accept. In statistics, it's impossible to control both at the same time, so you need to pick and choose."
   ]
  },
  {
   "cell_type": "code",
   "execution_count": 88,
   "metadata": {},
   "outputs": [],
   "source": [
    "#the functione below perform the stepwise selection using backward method based on feature weight\n",
    "#this functionality is not created in python (specially for logistic regression)\n",
    "#the first function removes coefficients with high p-values\n",
    "#the second function repeats the first procedure until the number of features stops changing\n",
    "#the third function scores the model rounding likelihood higher than  0.95 to 1 (assuming it's a fraud)\n",
    "\n",
    "def remove_pvalues(my_list, alpha=0.05):\n",
    "    #function to remove high p-value coefficients\n",
    "    #basically the p-value tests the probability of a coeficient having 0 effect which it could be caused by collinearity\n",
    "    # we want to remove that because it affects the quality of the model\n",
    "\n",
    "    features = []\n",
    "    counter = 0\n",
    "    \n",
    "    for item in my_list:\n",
    "        if my_list.iloc[counter]<=alpha:\n",
    "            features.append(my_list.index[counter])\n",
    "\n",
    "        counter+=1\n",
    "    \n",
    "    return features\n",
    "\n",
    "\n",
    "def stepwise_logistic(X_res, y_res):\n",
    "    \n",
    "    #function to perform the logistic regression until the change in the coefficients is 0\n",
    "    lr=sm.Logit(y, X)\n",
    "    lr = lr.fit()\n",
    "    my_pvalues = lr.pvalues\n",
    "    features = remove_pvalues(my_pvalues)\n",
    "    n_old = len(features)\n",
    "    \n",
    "    while True:\n",
    "        X_new = X_res[features]\n",
    "        lr=sm.Logit(y_res,X_new)\n",
    "        lr = lr.fit()\n",
    "        new_features = remove_pvalues(lr.pvalues)\n",
    "        n_new = len(new_features)\n",
    "        if n_old- n_new==0:\n",
    "            break\n",
    "        else: \n",
    "            n_old = n_new\n",
    "\n",
    "\n",
    "    return new_features\n",
    "\n",
    "def logit_score(model, X, y, threshold=0.95):\n",
    "    #function to score the logit model (only works for models that support .predict function)\n",
    "    y_t = model.predict(X)\n",
    "    y_t = y_t > threshold\n",
    "    z= abs(y_t-y)\n",
    "    score = 1- sum(z)/len(z)\n",
    "    return score\n",
    "    "
   ]
  },
  {
   "cell_type": "markdown",
   "metadata": {},
   "source": [
    "## Performing Logistic Regression\n",
    "Now our guns are loaded, we just need to fire, below I am performing the feature selection and then the model fitting in the final X matrix:"
   ]
  },
  {
   "cell_type": "code",
   "execution_count": 89,
   "metadata": {},
   "outputs": [
    {
     "name": "stdout",
     "output_type": "stream",
     "text": [
      "Optimization terminated successfully.\n",
      "         Current function value: 0.021744\n",
      "         Iterations 13\n",
      "Optimization terminated successfully.\n",
      "         Current function value: 0.209580\n",
      "         Iterations 14\n",
      "Optimization terminated successfully.\n",
      "         Current function value: 0.209580\n",
      "         Iterations 14\n"
     ]
    }
   ],
   "source": [
    "#execute the functions above\n",
    "\n",
    "features = stepwise_logistic(X_over, y_over)\n",
    "X_over_new = X_over[features]\n",
    "\n",
    "lr=sm.Logit(y_over,X_over_new)\n",
    "lr = lr.fit()\n",
    "   "
   ]
  },
  {
   "cell_type": "markdown",
   "metadata": {},
   "source": [
    "## Scoring the model\n",
    "Now the most expected part of this tutorial, which is basically checking how many \"rights and wrongs\" we are getting, considering the model was created based on a dataset with a 50% of fraud occurrences, and then tested in a set with 0.17% of fraud occurrences.<br>\n",
    "**Voila:**"
   ]
  },
  {
   "cell_type": "code",
   "execution_count": 90,
   "metadata": {},
   "outputs": [
    {
     "name": "stdout",
     "output_type": "stream",
     "text": [
      "Percentage of Rights and Wrongs in the testing set 99.261%\n"
     ]
    }
   ],
   "source": [
    "\n",
    "score = logit_score(lr, X_test[features], y_test)\n",
    "y_t = lr.predict(X_test[features])\n",
    "#rounds to 1 any likehood higher than 0.95, otherwise sign 0\n",
    "y_t = y_t > 0.95\n",
    "\n",
    "print(\"Percentage of Rights and Wrongs in the testing set \"+\"{:.3%}\".format(score));\n"
   ]
  },
  {
   "cell_type": "code",
   "execution_count": 91,
   "metadata": {},
   "outputs": [
    {
     "name": "stdout",
     "output_type": "stream",
     "text": [
      "Number of Frauds in real data 98\n",
      "Number of Frauds in prediction data 491\n"
     ]
    }
   ],
   "source": [
    "#from the number below you can see if the model is over or under predicting\n",
    "print('Number of Frauds in real data %s' % sum(y_test))\n",
    "print('Number of Frauds in prediction data %s' % sum(y_t))"
   ]
  },
  {
   "cell_type": "markdown",
   "metadata": {},
   "source": [
    "Now that we know the model is awesome, let's see where we are getting it wrong. The plot below shows how many false negatives and false positives we have. We see a lot more false positives (we are saying a transaction was fradulent even though it was not). This come from the 0.95 threeshold above, if you increase that value to 0.99 for example, you will increase the amount of false begatives as well. The statstician need to decide what is the optimum cut.\n"
   ]
  },
  {
   "cell_type": "code",
   "execution_count": 72,
   "metadata": {},
   "outputs": [
    {
     "data": {
      "text/plain": [
       "<matplotlib.axes._subplots.AxesSubplot at 0x263864f72e8>"
      ]
     },
     "execution_count": 72,
     "metadata": {},
     "output_type": "execute_result"
    },
    {
     "data": {
      "image/png": "[encoded data removed]",
      "text/plain": [
       "<Figure size 432x288 with 2 Axes>"
      ]
     },
     "metadata": {
      "needs_background": "light"
     },
     "output_type": "display_data"
    }
   ],
   "source": [
    "#plots confusion matrix with false positives and negatives\n",
    "skplt.metrics.plot_confusion_matrix(y_test, y_t)"
   ]
  },
  {
   "cell_type": "markdown",
   "metadata": {},
   "source": [
    "let's see what variables are more important to the model in asbolute value. In the chart below you can see the top 15 most relavant features:"
   ]
  },
  {
   "cell_type": "code",
   "execution_count": 17,
   "metadata": {},
   "outputs": [
    {
     "data": {
      "image/png": "[encoded data removed]",
      "text/plain": [
       "<Figure size 1080x720 with 1 Axes>"
      ]
     },
     "metadata": {
      "needs_background": "light"
     },
     "output_type": "display_data"
    }
   ],
   "source": [
    "#calculate the weights\n",
    "weights = lr.params\n",
    "\n",
    "#creates a dataframe for them and the coefficient names\n",
    "importance_list = pd.DataFrame(\n",
    "    {'names': features,\n",
    "     'weights': weights\n",
    "    })\n",
    "\n",
    "#normalized absolute weights\n",
    "importance_list['abs_weights'] = np.abs(importance_list['weights'])\n",
    "total = sum(importance_list['abs_weights'])\n",
    "importance_list['norm_weights'] = importance_list['abs_weights']/total\n",
    "\n",
    "#select top 10 with higher importance\n",
    "importance_list = importance_list.sort_values(by='norm_weights', ascending=False)\n",
    "importance_list = importance_list.iloc[0:14]\n",
    "\n",
    "#plot them tcharam!\n",
    "ax = importance_list['norm_weights'].plot(kind='bar', title =\"Variable importance\",figsize=(15,10),legend=True, fontsize=12)\n",
    "ax.set_xticklabels(importance_list['names'], rotation=90)\n",
    "\n",
    "plt.show()"
   ]
  },
  {
   "cell_type": "markdown",
   "metadata": {},
   "source": [
    "Now to visualize the weights we can see in the plot below which variables decrease x increase the likelihood of having a fradulent transaction. "
   ]
  },
  {
   "cell_type": "code",
   "execution_count": 18,
   "metadata": {},
   "outputs": [
    {
     "data": {
      "image/png": "[encoded data removed]",
      "text/plain": [
       "<Figure size 1080x720 with 1 Axes>"
      ]
     },
     "metadata": {
      "needs_background": "light"
     },
     "output_type": "display_data"
    }
   ],
   "source": [
    "ax = importance_list['weights'].plot(kind='bar', title =\"Variable importance\",figsize=(15,10),legend=True, fontsize=12)\n",
    "ax.set_xticklabels(importance_list['names'], rotation=90)\n",
    "\n",
    "plt.show()"
   ]
  },
  {
   "cell_type": "code",
   "execution_count": null,
   "metadata": {},
   "outputs": [],
   "source": [
    "I know this is a pretty long tutorial but hopefully you will not need to go through all the yak shaving I had to go through what I went through."
   ]
  }
 ],
 "metadata": {
  "kernelspec": {
   "display_name": "Python 3",
   "language": "python",
   "name": "python3"
  },
  "language_info": {
   "codemirror_mode": {
    "name": "ipython",
    "version": 3
   },
   "file_extension": ".py",
   "mimetype": "text/x-python",
   "name": "python",
   "nbconvert_exporter": "python",
   "pygments_lexer": "ipython3",
   "version": "3.7.1"
  }
 },
 "nbformat": 4,
 "nbformat_minor": 2
}
